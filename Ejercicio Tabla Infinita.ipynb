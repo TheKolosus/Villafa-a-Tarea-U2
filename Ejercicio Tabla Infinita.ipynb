{
 "cells": [
  {
   "cell_type": "markdown",
   "id": "5402ea5d",
   "metadata": {},
   "source": [
    "\n",
    "\n"
   ]
  },
  {
   "cell_type": "code",
   "execution_count": 18,
   "id": "2f18fcb1",
   "metadata": {},
   "outputs": [
    {
     "name": "stdout",
     "output_type": "stream",
     "text": [
      "Digita el inicio de la multiplicación: 3\n",
      "Digita el final de la multiplicación: 4\n",
      "Digita el inicio de la tabla: 1\n",
      "Digita el final de la tabla: 2\n",
      "\n",
      "\n",
      "3 x 1 = 3\n",
      "3 x 2 = 6\n",
      "\n",
      "\n",
      "4 x 1 = 4\n",
      "4 x 2 = 8\n"
     ]
    }
   ],
   "source": [
    "inicioMulti = int(input(\"Digita el inicio de la multiplicación: \"))\n",
    "finalMulti = int(input(\"Digita el final de la multiplicación: \"))\n",
    "inicioTa = int(input(\"Digita el inicio de la tabla: \"))\n",
    "finalTa = int(input(\"Digita el final de la tabla: \"))\n",
    "\n",
    "for i in range (inicioMulti, finalMulti+1):\n",
    "    print(\"\\n\")\n",
    "    for j in range(inicioTa, finalTa+1):\n",
    "        \n",
    "        print(f\"{i} x {j} = {i*j}\")\n"
   ]
  },
  {
   "cell_type": "code",
   "execution_count": null,
   "id": "b8d05c34",
   "metadata": {},
   "outputs": [],
   "source": []
  },
  {
   "cell_type": "code",
   "execution_count": null,
   "id": "c5335ee3",
   "metadata": {},
   "outputs": [],
   "source": []
  },
  {
   "cell_type": "code",
   "execution_count": null,
   "id": "6ce16bb6",
   "metadata": {},
   "outputs": [],
   "source": []
  },
  {
   "cell_type": "code",
   "execution_count": null,
   "id": "15ff808d",
   "metadata": {},
   "outputs": [],
   "source": []
  },
  {
   "cell_type": "code",
   "execution_count": null,
   "id": "a5a4a9e3",
   "metadata": {},
   "outputs": [],
   "source": []
  },
  {
   "cell_type": "code",
   "execution_count": null,
   "id": "7f6db02c",
   "metadata": {},
   "outputs": [],
   "source": []
  }
 ],
 "metadata": {
  "kernelspec": {
   "display_name": "Python 3 (ipykernel)",
   "language": "python",
   "name": "python3"
  },
  "language_info": {
   "codemirror_mode": {
    "name": "ipython",
    "version": 3
   },
   "file_extension": ".py",
   "mimetype": "text/x-python",
   "name": "python",
   "nbconvert_exporter": "python",
   "pygments_lexer": "ipython3",
   "version": "3.11.4"
  }
 },
 "nbformat": 4,
 "nbformat_minor": 5
}
