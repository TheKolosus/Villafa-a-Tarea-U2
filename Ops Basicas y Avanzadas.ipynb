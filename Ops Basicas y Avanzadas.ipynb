{
 "cells": [
  {
   "cell_type": "code",
   "execution_count": 18,
   "id": "b02dc159",
   "metadata": {},
   "outputs": [
    {
     "name": "stdout",
     "output_type": "stream",
     "text": [
      "Digita un número: 3\n",
      "Digita un segundo número: 4\n"
     ]
    },
    {
     "ename": "TypeError",
     "evalue": "sumaNum() missing 2 required positional arguments: 'n1' and 'n2'",
     "output_type": "error",
     "traceback": [
      "\u001b[1;31m---------------------------------------------------------------------------\u001b[0m",
      "\u001b[1;31mTypeError\u001b[0m                                 Traceback (most recent call last)",
      "Cell \u001b[1;32mIn[18], line 6\u001b[0m\n\u001b[0;32m      3\u001b[0m n1 \u001b[38;5;241m=\u001b[39m \u001b[38;5;28mint\u001b[39m(\u001b[38;5;28minput\u001b[39m(\u001b[38;5;124m\"\u001b[39m\u001b[38;5;124mDigita un número: \u001b[39m\u001b[38;5;124m\"\u001b[39m))\n\u001b[0;32m      4\u001b[0m n2 \u001b[38;5;241m=\u001b[39m \u001b[38;5;28mint\u001b[39m(\u001b[38;5;28minput\u001b[39m(\u001b[38;5;124m\"\u001b[39m\u001b[38;5;124mDigita un segundo número: \u001b[39m\u001b[38;5;124m\"\u001b[39m))\n\u001b[1;32m----> 6\u001b[0m sumaOps \u001b[38;5;241m=\u001b[39m suma_modulo\u001b[38;5;241m.\u001b[39msumaNum()\n\u001b[0;32m      7\u001b[0m restaOps \u001b[38;5;241m=\u001b[39m resta_modulo\u001b[38;5;241m.\u001b[39mrestaNum()\n\u001b[0;32m      8\u001b[0m multiOps \u001b[38;5;241m=\u001b[39m multi_modulo\u001b[38;5;241m.\u001b[39mmultiNum()\n",
      "\u001b[1;31mTypeError\u001b[0m: sumaNum() missing 2 required positional arguments: 'n1' and 'n2'"
     ]
    }
   ],
   "source": [
    "from matematicas import suma_modulo, resta_modulo, multi_modulo, divi_modulo, pw_modulo, sqr_modulo\n",
    "\n",
    "n1 = int(input(\"Digita un número: \"))\n",
    "n2 = int(input(\"Digita un segundo número: \"))\n",
    "\n",
    "sumaOps = suma_modulo.sumaNum()\n",
    "restaOps = resta_modulo.restaNum()\n",
    "multiOps = multi_modulo.multiNum()\n",
    "diviOps = divi_modulo.diviNum()\n",
    "pwOps = pw_modulo.pwNum()\n",
    "sqrOps = sqr_modulo.sqrNum()\n",
    "\n",
    "print(sumaOps)\n",
    "print(restaOps)\n",
    "print(multiOps)\n",
    "print(diviOps)\n",
    "print(pwOps)\n",
    "print(sqrOps)"
   ]
  },
  {
   "cell_type": "code",
   "execution_count": null,
   "id": "93ee282b",
   "metadata": {},
   "outputs": [],
   "source": []
  }
 ],
 "metadata": {
  "kernelspec": {
   "display_name": "Python 3 (ipykernel)",
   "language": "python",
   "name": "python3"
  },
  "language_info": {
   "codemirror_mode": {
    "name": "ipython",
    "version": 3
   },
   "file_extension": ".py",
   "mimetype": "text/x-python",
   "name": "python",
   "nbconvert_exporter": "python",
   "pygments_lexer": "ipython3",
   "version": "3.11.4"
  }
 },
 "nbformat": 4,
 "nbformat_minor": 5
}
