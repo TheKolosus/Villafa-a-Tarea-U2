{
 "cells": [
  {
   "cell_type": "code",
   "execution_count": 4,
   "id": "05fea452",
   "metadata": {},
   "outputs": [
    {
     "name": "stdout",
     "output_type": "stream",
     "text": [
      "Musculo\n"
     ]
    }
   ],
   "source": [
    "persona = {\n",
    "    \"estatura\" : 1.76,\n",
    "    \"peso\" : 80\n",
    "}\n",
    "\n",
    "def imc(peso, estatura):\n",
    "    return peso/estatura**2\n",
    "\n",
    "personaIMC = imc(persona[\"peso\"], persona[\"estatura\"])\n",
    "    \n",
    "def nivelPeso(personaIMC):\n",
    "    if personaIMC < 18.5 :\n",
    "        print(\"Bajo peso\")\n",
    "    elif personaIMC >=18.5 and personaIMC <= 24.9:\n",
    "        print(\"Normal\")\n",
    "    elif personaIMC >= 25.0 and personaIMC <=29.9:\n",
    "        print(\"Musculo\")\n",
    "    else:\n",
    "        print(\"Obeso\")\n",
    "    \n",
    "nivelPeso(personaIMC)"
   ]
  },
  {
   "cell_type": "code",
   "execution_count": null,
   "id": "151092d5",
   "metadata": {},
   "outputs": [],
   "source": []
  },
  {
   "cell_type": "code",
   "execution_count": null,
   "id": "47231c51",
   "metadata": {},
   "outputs": [],
   "source": []
  },
  {
   "cell_type": "code",
   "execution_count": null,
   "id": "97822871",
   "metadata": {},
   "outputs": [],
   "source": []
  }
 ],
 "metadata": {
  "kernelspec": {
   "display_name": "Python 3 (ipykernel)",
   "language": "python",
   "name": "python3"
  },
  "language_info": {
   "codemirror_mode": {
    "name": "ipython",
    "version": 3
   },
   "file_extension": ".py",
   "mimetype": "text/x-python",
   "name": "python",
   "nbconvert_exporter": "python",
   "pygments_lexer": "ipython3",
   "version": "3.11.4"
  }
 },
 "nbformat": 4,
 "nbformat_minor": 5
}
