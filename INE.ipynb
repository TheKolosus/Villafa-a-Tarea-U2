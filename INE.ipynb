{
 "cells": [
  {
   "cell_type": "code",
   "execution_count": null,
   "id": "bbeb1559",
   "metadata": {},
   "outputs": [],
   "source": [
    "def datosINE():\n",
    "    INE = {}\n",
    "    INE['NombreINE'] = input(\"Digita tu nombre: \")\n",
    "    INE['ApellidoPaINE'] = input(\"Digita tu apellido paterno: \")\n",
    "    INE['ApellidoMaINE'] = input(\"Digita tu apellido materno: \")\n",
    "    INE['FeNaciINE'] = input(\"Digita tu fecha de nacimiento. Ej, 10/01/2003: \")\n",
    "    INE['SexINE'] = input(\"Digita tu sexo: \")\n",
    "    INE['ClaveElectorINE'] = input(\"Digita tu Clave de Elector: \")\n",
    "    INE['YearRegistroINE'] = input(\"Digita el año de registro de tu INE. Ej, 2020 00: \")\n",
    "    INE['VigenciaINE'] = input(\"Digita la vigencia de tu INE. Ej, 2020-2030: \")\n",
    "    INE['SeccIne'] = input(\"Digita tu sección: \")\n",
    "    INE['DomicilioINE'] = input(\"Digita tu domicilio: \")\n",
    "    INE['CURPINE'] = input(\"Digita tu CURP: \")\n",
    "    \n",
    "    return INE\n",
    "\n",
    "def generarDatos(dataINE, archINE):\n",
    "    with open(archINE, 'w') as file:\n",
    "        for clave, valor in dataINE.items():\n",
    "            file.write(f\"{clave}: {valor}\\n\")\n",
    "\n",
    "INE = datosINE()\n",
    "\n",
    "nombreArchivoINE = \"DatosDeLaINE.txt\"\n",
    "\n",
    "generarDatos(INE, nombreArchivoINE)"
   ]
  },
  {
   "cell_type": "code",
   "execution_count": null,
   "id": "75f59c38",
   "metadata": {},
   "outputs": [],
   "source": []
  }
 ],
 "metadata": {
  "kernelspec": {
   "display_name": "Python 3 (ipykernel)",
   "language": "python",
   "name": "python3"
  },
  "language_info": {
   "codemirror_mode": {
    "name": "ipython",
    "version": 3
   },
   "file_extension": ".py",
   "mimetype": "text/x-python",
   "name": "python",
   "nbconvert_exporter": "python",
   "pygments_lexer": "ipython3",
   "version": "3.11.4"
  }
 },
 "nbformat": 4,
 "nbformat_minor": 5
}
